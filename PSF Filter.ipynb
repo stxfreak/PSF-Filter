{
 "cells": [
  {
   "cell_type": "code",
   "execution_count": 16,
   "metadata": {},
   "outputs": [],
   "source": [
    "import pandas as pd\n",
    "\n",
    "def delete_header():\n",
    "    \n",
    "    global local_file\n",
    "    local_file = input(r\"Filepath: \")\n",
    "    with open(local_file, 'r') as fin:\n",
    "        data = fin.read().splitlines(True)\n",
    "    with open(local_file, 'w') as fout:\n",
    "        fout.writelines(data[1:])\n",
    "        \n",
    "    print(\"Rapidstorm header removed.\")\n",
    "\n",
    "def include_header():\n",
    "    \n",
    "    global local_file\n",
    "    global output_file\n",
    "    with open(output_file, 'r') as original: data = original.read()\n",
    "    with open(output_file, 'w') as modified: modified.write('# <localizations insequence=\"true\" repetitions=\"variable\"><field identifier=\"Position-0-0\" syntax=\"floating point with . for decimals and optional scientific e-notation\" semantic=\"position in sample space in X\" unit=\"nanometer\" min=\"0 m\" max=\"2.6398e-005 m\" /><field identifier=\"Position-1-0\" syntax=\"floating point with . for decimals and optional scientific e-notation\" semantic=\"position in sample space in Y\" unit=\"nanometer\" min=\"0 m\" max=\"2.8944e-005 m\" /><field identifier=\"ImageNumber-0-0\" syntax=\"integer\" semantic=\"frame number\" unit=\"frame\" min=\"0 fr\" /><field identifier=\"Amplitude-0-0\" syntax=\"floating point with . for decimals and optional scientific e-notation\" semantic=\"emission strength\" unit=\"A/D count\" /><field identifier=\"PSFWidth-0-0\" syntax=\"floating point with . for decimals and optional scientific e-notation\" semantic=\"PSF FWHM in X\" unit=\"nanometer\" /><field identifier=\"PSFWidth-1-0\" syntax=\"floating point with . for decimals and optional scientific e-notation\" semantic=\"PSF FWHM in Y\" unit=\"nanometer\" /><field identifier=\"FitResidues-0-0\" syntax=\"floating point with . for decimals and optional scientific e-notation\" semantic=\"fit residue chi square value\" unit=\"dimensionless\" /><field identifier=\"LocalBackground-0-0\" syntax=\"floating point with . for decimals and optional scientific e-notation\" semantic=\"local background\" unit=\"A/D count\" /></localizations>\\n' + data) \n",
    "    print(\"Rapidstorm header added.\") \n",
    "    \n",
    "def load_local():\n",
    "    \n",
    "    global local_file\n",
    "    global local\n",
    "    local = pd.read_csv(local_file, delimiter=\" \",decimal = b\".\", usecols=[0,1,2,3,4,5,6,7])\n",
    "    print(\"Temp Dataframe loaded.\") \n",
    "        \n",
    "def replace_columns():\n",
    "    \n",
    "    global local_file\n",
    "    global local\n",
    "    local.columns = [\"x\", \"y\", \"Frame\", \"Emission Strength\", \"PSF FWHM X\", \"PSF FWHM Y\", \"Fit Residue\", \"LocalBackground\" ]\n",
    "    print(\"Header added.\")\n",
    "    \n",
    "def filter_psf():\n",
    "   \n",
    "    global local\n",
    "    global local2\n",
    "    global output_file\n",
    "    \n",
    "    \n",
    "    psf_lower = input(\"PSF lower limit: \")\n",
    "    psf_upper = input(\"PSF upper limit: \")\n",
    "    output_file = input(r'Outputfile: ')\n",
    "    local2 = local[(local['PSF FWHM X']  > int(psf_lower)) & (local['PSF FWHM X'] < int(psf_upper)) &\n",
    "                   (local['PSF FWHM Y']  > int(psf_lower)) & (local['PSF FWHM Y'] < int(psf_upper))]       \n",
    "    local2.to_csv(output_file, header=None, index=None, sep=' ', mode='a')\n",
    "    print(\"PSF FWHM filtered to \" + psf_lower + \"-\" + psf_upper)\n",
    "    "
   ]
  },
  {
   "cell_type": "code",
   "execution_count": 15,
   "metadata": {
    "scrolled": true
   },
   "outputs": [
    {
     "name": "stdout",
     "output_type": "stream",
     "text": [
      "Filepath: rot_1.txt\n",
      "Rapidstorm header removed.\n",
      "Temp Dataframe loaded.\n",
      "Header added.\n",
      "PSF lower limit: 300\n",
      "PSF upper limit: 500\n",
      "Outputfile: rot_f.txt\n",
      "PSF FWHM filtered to 300 - 500\n",
      "Rapidstorm header added.\n",
      "Done.\n"
     ]
    }
   ],
   "source": [
    "delete_header()\n",
    "load_local()\n",
    "replace_columns()\n",
    "filter_psf()\n",
    "include_header()\n",
    "print(\"Done.\")"
   ]
  },
  {
   "cell_type": "code",
   "execution_count": null,
   "metadata": {},
   "outputs": [],
   "source": []
  },
  {
   "cell_type": "code",
   "execution_count": null,
   "metadata": {},
   "outputs": [],
   "source": []
  },
  {
   "cell_type": "code",
   "execution_count": null,
   "metadata": {},
   "outputs": [],
   "source": []
  },
  {
   "cell_type": "code",
   "execution_count": null,
   "metadata": {},
   "outputs": [],
   "source": []
  }
 ],
 "metadata": {
  "kernelspec": {
   "display_name": "Python 3",
   "language": "python",
   "name": "python3"
  },
  "language_info": {
   "codemirror_mode": {
    "name": "ipython",
    "version": 3
   },
   "file_extension": ".py",
   "mimetype": "text/x-python",
   "name": "python",
   "nbconvert_exporter": "python",
   "pygments_lexer": "ipython3",
   "version": "3.6.4"
  }
 },
 "nbformat": 4,
 "nbformat_minor": 2
}
